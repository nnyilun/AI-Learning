{
 "cells": [
  {
   "cell_type": "markdown",
   "id": "288db433",
   "metadata": {},
   "source": [
    "## 反向传播和计算图\n",
    "反向传播按照计算图和链式法则计算梯度\n",
    "\n",
    "通过计算这些梯度，我们能够知道如何更新 w 和 b 来最小化损失函数，通常是通过梯度下降或其他优化算法。在梯度下降中，我们会稍微修改 w 和 b，方向是与梯度相反的（因为梯度指向的是损失函数上升最快的方向），从而在多次迭代后（理想情况下）达到损失函数的最小值。"
   ]
  },
  {
   "cell_type": "code",
   "execution_count": null,
   "id": "93a3cf6b",
   "metadata": {},
   "outputs": [],
   "source": []
  }
 ],
 "metadata": {
  "kernelspec": {
   "display_name": "Python 3 (ipykernel)",
   "language": "python",
   "name": "python3"
  },
  "language_info": {
   "codemirror_mode": {
    "name": "ipython",
    "version": 3
   },
   "file_extension": ".py",
   "mimetype": "text/x-python",
   "name": "python",
   "nbconvert_exporter": "python",
   "pygments_lexer": "ipython3",
   "version": "3.11.4"
  }
 },
 "nbformat": 4,
 "nbformat_minor": 5
}
