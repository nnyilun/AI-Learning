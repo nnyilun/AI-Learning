{
 "cells": [
  {
   "cell_type": "code",
   "execution_count": 1,
   "metadata": {
    "tags": []
   },
   "outputs": [],
   "source": [
    "import torch\n",
    "from torch import nn\n",
    "from torchvision.datasets import FashionMNIST\n",
    "from torchvision import transforms\n",
    "from torch.utils.data import DataLoader\n",
    "from tqdm import tqdm\n",
    "\n",
    "device = \"cuda\" if torch.cuda.is_available() else \"cpu\""
   ]
  },
  {
   "cell_type": "code",
   "execution_count": 2,
   "metadata": {
    "tags": []
   },
   "outputs": [],
   "source": [
    "transform = transforms.Compose([\n",
    "    transforms.Resize((224, 224)),\n",
    "    transforms.ToTensor(),\n",
    "])\n",
    "\n",
    "train_dataset = FashionMNIST(root='../data/FashionMNIST/', train=True, download=True, transform=transform)\n",
    "test_dataset = FashionMNIST(root='../data/FashionMNIST/', train=False, download=True, transform=transform)\n",
    "train_loader = DataLoader(dataset=train_dataset, batch_size=128, shuffle=True)\n",
    "test_loader = DataLoader(dataset=test_dataset, batch_size=128, shuffle=False)"
   ]
  },
  {
   "cell_type": "code",
   "execution_count": 3,
   "metadata": {
    "tags": []
   },
   "outputs": [],
   "source": [
    "def evaluate_classify(model:torch.nn.Module, dataloader:DataLoader, criterion:nn.Module) -> (float, float):\n",
    "    model.eval()\n",
    "    total_correct = 0\n",
    "    total_loss = 0\n",
    "    total = 0\n",
    "\n",
    "    with torch.no_grad():\n",
    "        for X, y in dataloader:\n",
    "            X, y = X.to(device), y.to(device)\n",
    "\n",
    "            y_hat = model(X)\n",
    "            loss = criterion(y_hat, y)\n",
    "\n",
    "            total_loss += loss.item()\n",
    "            total_correct += (y_hat.argmax(1) == y).type(torch.float).sum().item()\n",
    "            total += y.size(0)\n",
    "\n",
    "    model.train()\n",
    "    \n",
    "    return total_loss / total, total_correct / total * 100"
   ]
  },
  {
   "cell_type": "code",
   "execution_count": 4,
   "metadata": {
    "tags": []
   },
   "outputs": [],
   "source": [
    "def train_classify(model:nn.Module, train_loader:DataLoader, test_loader:DataLoader, \n",
    "                   optimizer:torch.optim.Optimizer, criterion:nn.Module, num_epochs:int=10) -> None:\n",
    "    for epoch in range(num_epochs):\n",
    "        total_loss = 0\n",
    "        total_correct = 0\n",
    "        total = 0\n",
    "        \n",
    "        progress_bar = tqdm(enumerate(train_loader), total=len(train_loader))\n",
    "\n",
    "        for i, (X, y) in progress_bar:\n",
    "            X, y = X.to(device), y.to(device)\n",
    "\n",
    "            y_hat = model(X)\n",
    "            loss = criterion(y_hat, y)\n",
    "\n",
    "            optimizer.zero_grad()\n",
    "            loss.backward()\n",
    "            optimizer.step()\n",
    "\n",
    "            total_loss += loss.item()\n",
    "            total_correct += (y_hat.argmax(1) == y).type(torch.float).sum().item()\n",
    "            total += y.size(0)\n",
    "        \n",
    "            progress_bar.set_description(f\"Epoch {epoch+1}\")\n",
    "            progress_bar.set_postfix(loss=total_loss/(i+1), accuracy=100.*total_correct/total)\n",
    "        \n",
    "        print(f\"Epoch: {epoch + 1}, loss: {total_loss / len(train_loader)}, acc: {100. * total_correct / total}\")\n",
    "        test_loss, test_acc = evaluate_classify(model, test_loader, criterion)\n",
    "        print(f\"Epoch: {epoch + 1}, test loss: {test_loss}, test acc: {test_acc}\")"
   ]
  },
  {
   "cell_type": "markdown",
   "metadata": {},
   "source": [
    "## AlexNet\n",
    "\n",
    "从浅层网络到深层网络的关键一步"
   ]
  },
  {
   "cell_type": "code",
   "execution_count": 5,
   "metadata": {
    "tags": []
   },
   "outputs": [],
   "source": [
    "AlexNet = nn.Sequential(\n",
    "    # 这里使用一个11*11的更大窗口来捕捉对象。\n",
    "    # 同时，步幅为4，以减少输出的高度和宽度。\n",
    "    # 另外，输出通道的数目远大于LeNet\n",
    "    nn.Conv2d(1, 96, kernel_size=11, stride=4, padding=1), nn.ReLU(),\n",
    "    nn.MaxPool2d(kernel_size=3, stride=2),\n",
    "    # 减小卷积窗口，使用填充为2来使得输入与输出的高和宽一致，且增大输出通道数\n",
    "    nn.Conv2d(96, 256, kernel_size=5, padding=2), nn.ReLU(),\n",
    "    nn.MaxPool2d(kernel_size=3, stride=2),\n",
    "    # 使用三个连续的卷积层和较小的卷积窗口。\n",
    "    # 除了最后的卷积层，输出通道的数量进一步增加。\n",
    "    # 在前两个卷积层之后，汇聚层不用于减少输入的高度和宽度\n",
    "    nn.Conv2d(256, 384, kernel_size=3, padding=1), nn.ReLU(),\n",
    "    nn.Conv2d(384, 384, kernel_size=3, padding=1), nn.ReLU(),\n",
    "    nn.Conv2d(384, 256, kernel_size=3, padding=1), nn.ReLU(),\n",
    "    nn.MaxPool2d(kernel_size=3, stride=2),\n",
    "    nn.Flatten(),\n",
    "    # 这里，全连接层的输出数量是LeNet中的好几倍。使用dropout层来减轻过拟合\n",
    "    nn.Linear(6400, 4096), nn.ReLU(),\n",
    "    nn.Dropout(p=0.5),\n",
    "    nn.Linear(4096, 4096), nn.ReLU(),\n",
    "    nn.Dropout(p=0.5),\n",
    "    # 最后是输出层。由于这里使用Fashion-MNIST，所以用类别数为10，而非论文中的1000\n",
    "    nn.Linear(4096, 10)\n",
    ").to(device)"
   ]
  },
  {
   "cell_type": "code",
   "execution_count": 6,
   "metadata": {
    "tags": []
   },
   "outputs": [],
   "source": [
    "criterion = nn.CrossEntropyLoss()\n",
    "# optimizer = torch.optim.Adam(AlexNet.parameters(), lr=0.01)\n",
    "optimizer = torch.optim.AdamW(AlexNet.parameters(), lr=1e-3, weight_decay=1e-2)"
   ]
  },
  {
   "cell_type": "code",
   "execution_count": 7,
   "metadata": {},
   "outputs": [
    {
     "name": "stderr",
     "output_type": "stream",
     "text": [
      "Epoch 1: 100%|██████████| 469/469 [00:50<00:00,  9.31it/s, accuracy=76.1, loss=0.623]\n"
     ]
    },
    {
     "name": "stdout",
     "output_type": "stream",
     "text": [
      "Epoch: 1, loss: 0.6232904042643524, acc: 76.07833333333333\n",
      "Epoch: 1, test loss: 0.002927865283191204, test acc: 86.57000000000001\n"
     ]
    },
    {
     "name": "stderr",
     "output_type": "stream",
     "text": [
      "Epoch 2: 100%|██████████| 469/469 [00:47<00:00,  9.79it/s, accuracy=87.2, loss=0.342]\n"
     ]
    },
    {
     "name": "stdout",
     "output_type": "stream",
     "text": [
      "Epoch: 2, loss: 0.3420215174396917, acc: 87.15\n",
      "Epoch: 2, test loss: 0.0024818234860897064, test acc: 88.14999999999999\n"
     ]
    },
    {
     "name": "stderr",
     "output_type": "stream",
     "text": [
      "Epoch 3: 100%|██████████| 469/469 [00:47<00:00,  9.81it/s, accuracy=88.9, loss=0.294]\n"
     ]
    },
    {
     "name": "stdout",
     "output_type": "stream",
     "text": [
      "Epoch: 3, loss: 0.29430521077819977, acc: 88.92\n",
      "Epoch: 3, test loss: 0.0024063949570059776, test acc: 88.63\n"
     ]
    },
    {
     "name": "stderr",
     "output_type": "stream",
     "text": [
      "Epoch 4: 100%|██████████| 469/469 [00:47<00:00,  9.79it/s, accuracy=90.1, loss=0.265]\n"
     ]
    },
    {
     "name": "stdout",
     "output_type": "stream",
     "text": [
      "Epoch: 4, loss: 0.26465576415313585, acc: 90.115\n",
      "Epoch: 4, test loss: 0.0024410379126667977, test acc: 88.94\n"
     ]
    },
    {
     "name": "stderr",
     "output_type": "stream",
     "text": [
      "Epoch 5: 100%|██████████| 469/469 [00:48<00:00,  9.72it/s, accuracy=91, loss=0.242]  \n"
     ]
    },
    {
     "name": "stdout",
     "output_type": "stream",
     "text": [
      "Epoch: 5, loss: 0.24221247701502557, acc: 90.99\n",
      "Epoch: 5, test loss: 0.002158971853554249, test acc: 89.91\n"
     ]
    },
    {
     "name": "stderr",
     "output_type": "stream",
     "text": [
      "Epoch 6: 100%|██████████| 469/469 [00:50<00:00,  9.27it/s, accuracy=91.8, loss=0.223]\n"
     ]
    },
    {
     "name": "stdout",
     "output_type": "stream",
     "text": [
      "Epoch: 6, loss: 0.22324519634628093, acc: 91.82666666666667\n",
      "Epoch: 6, test loss: 0.002097383114695549, test acc: 90.32\n"
     ]
    },
    {
     "name": "stderr",
     "output_type": "stream",
     "text": [
      "Epoch 7: 100%|██████████| 469/469 [00:51<00:00,  9.04it/s, accuracy=92.2, loss=0.209]\n"
     ]
    },
    {
     "name": "stdout",
     "output_type": "stream",
     "text": [
      "Epoch: 7, loss: 0.20925184305924088, acc: 92.18666666666667\n",
      "Epoch: 7, test loss: 0.0021287918344140054, test acc: 90.03999999999999\n"
     ]
    },
    {
     "name": "stderr",
     "output_type": "stream",
     "text": [
      "Epoch 8: 100%|██████████| 469/469 [00:50<00:00,  9.21it/s, accuracy=92.8, loss=0.194]\n"
     ]
    },
    {
     "name": "stdout",
     "output_type": "stream",
     "text": [
      "Epoch: 8, loss: 0.19371465313981082, acc: 92.76333333333334\n",
      "Epoch: 8, test loss: 0.002015212031453848, test acc: 90.93\n"
     ]
    },
    {
     "name": "stderr",
     "output_type": "stream",
     "text": [
      "Epoch 9: 100%|██████████| 469/469 [00:48<00:00,  9.61it/s, accuracy=93.1, loss=0.184]\n"
     ]
    },
    {
     "name": "stdout",
     "output_type": "stream",
     "text": [
      "Epoch: 9, loss: 0.18418925690816154, acc: 93.095\n",
      "Epoch: 9, test loss: 0.00202462058365345, test acc: 91.36999999999999\n"
     ]
    },
    {
     "name": "stderr",
     "output_type": "stream",
     "text": [
      "Epoch 10: 100%|██████████| 469/469 [00:48<00:00,  9.63it/s, accuracy=93.6, loss=0.172]\n"
     ]
    },
    {
     "name": "stdout",
     "output_type": "stream",
     "text": [
      "Epoch: 10, loss: 0.17221499204254354, acc: 93.605\n",
      "Epoch: 10, test loss: 0.001965224288403988, test acc: 91.27\n"
     ]
    }
   ],
   "source": [
    "train_classify(AlexNet, train_loader, test_loader, optimizer, criterion, num_epochs=10)"
   ]
  },
  {
   "cell_type": "markdown",
   "metadata": {},
   "source": [
    "## VGG网络\n",
    "\n",
    "核心思想是使用块，每个块由数个网络层组成，通过堆叠块形成深度网络。"
   ]
  },
  {
   "cell_type": "code",
   "execution_count": 9,
   "metadata": {},
   "outputs": [],
   "source": [
    "def vgg_block(num_convs:int, in_channels:int, out_channels:int):\n",
    "    net = []\n",
    "    for _ in range(num_convs):\n",
    "        net.append(nn.Conv2d(in_channels, out_channels,\n",
    "                             kernel_size=3, padding=1))\n",
    "        net.append(nn.ReLU())\n",
    "        in_channels = out_channels\n",
    "    net.append(nn.MaxPool2d(kernel_size=2, stride=2))\n",
    "    return nn.Sequential(*net)"
   ]
  },
  {
   "cell_type": "code",
   "execution_count": 11,
   "metadata": {},
   "outputs": [],
   "source": [
    "def vgg_net(conv_arch:list):\n",
    "    net = []\n",
    "\n",
    "    # 卷积部分\n",
    "    in_channels = 1\n",
    "    for (num_convs, out_channels) in conv_arch:\n",
    "        net.append(vgg_block(num_convs, in_channels, out_channels))\n",
    "        in_channels = out_channels\n",
    "\n",
    "    # 线性层\n",
    "    return nn.Sequential(\n",
    "        *net, nn.Flatten(),\n",
    "        nn.Linear(out_channels * 7 * 7, 4096), nn.ReLU(), nn.Dropout(0.5),\n",
    "        nn.Linear(4096, 4096), nn.ReLU(), nn.Dropout(0.5),\n",
    "        nn.Linear(4096, 10)\n",
    "    )\n",
    "\n",
    "conv_arch = ((1, 64), (1, 128), (2, 256), (2, 512), (2, 512))\n",
    "\n",
    "# FashionMNIST数据集比较简单，将通道数缩放一下，降低计算量\n",
    "ratio = 4\n",
    "small_conv_arch = [(pair[0], pair[1] // ratio) for pair in conv_arch]\n",
    "small_vgg_net = vgg_net(small_conv_arch).to(device)"
   ]
  },
  {
   "cell_type": "code",
   "execution_count": 12,
   "metadata": {},
   "outputs": [],
   "source": [
    "criterion = nn.CrossEntropyLoss()\n",
    "optimizer = torch.optim.AdamW(small_vgg_net.parameters(), lr=1e-3, weight_decay=1e-2)"
   ]
  },
  {
   "cell_type": "code",
   "execution_count": 13,
   "metadata": {},
   "outputs": [
    {
     "name": "stderr",
     "output_type": "stream",
     "text": [
      "Epoch 1: 100%|██████████| 469/469 [01:14<00:00,  6.30it/s, accuracy=79, loss=0.557]  \n"
     ]
    },
    {
     "name": "stdout",
     "output_type": "stream",
     "text": [
      "Epoch: 1, loss: 0.5565553918830367, acc: 78.96\n",
      "Epoch: 1, test loss: 0.002487978158891201, test acc: 88.53\n"
     ]
    },
    {
     "name": "stderr",
     "output_type": "stream",
     "text": [
      "Epoch 2: 100%|██████████| 469/469 [01:12<00:00,  6.43it/s, accuracy=89.4, loss=0.288]\n"
     ]
    },
    {
     "name": "stdout",
     "output_type": "stream",
     "text": [
      "Epoch: 2, loss: 0.2876724307534537, acc: 89.42166666666667\n",
      "Epoch: 2, test loss: 0.002082240116596222, test acc: 90.2\n"
     ]
    },
    {
     "name": "stderr",
     "output_type": "stream",
     "text": [
      "Epoch 3: 100%|██████████| 469/469 [01:12<00:00,  6.44it/s, accuracy=91.1, loss=0.241]\n"
     ]
    },
    {
     "name": "stdout",
     "output_type": "stream",
     "text": [
      "Epoch: 3, loss: 0.24068131121491065, acc: 91.11166666666666\n",
      "Epoch: 3, test loss: 0.001996009835600853, test acc: 90.8\n"
     ]
    },
    {
     "name": "stderr",
     "output_type": "stream",
     "text": [
      "Epoch 4: 100%|██████████| 469/469 [01:14<00:00,  6.28it/s, accuracy=92.2, loss=0.214]\n"
     ]
    },
    {
     "name": "stdout",
     "output_type": "stream",
     "text": [
      "Epoch: 4, loss: 0.21352951376359347, acc: 92.17\n",
      "Epoch: 4, test loss: 0.0017884517759084702, test acc: 92.05\n"
     ]
    },
    {
     "name": "stderr",
     "output_type": "stream",
     "text": [
      "Epoch 5: 100%|██████████| 469/469 [01:14<00:00,  6.27it/s, accuracy=93, loss=0.191]  \n"
     ]
    },
    {
     "name": "stdout",
     "output_type": "stream",
     "text": [
      "Epoch: 5, loss: 0.19062784035354535, acc: 92.97833333333334\n",
      "Epoch: 5, test loss: 0.001710431595146656, test acc: 92.23\n"
     ]
    },
    {
     "name": "stderr",
     "output_type": "stream",
     "text": [
      "Epoch 6: 100%|██████████| 469/469 [01:14<00:00,  6.31it/s, accuracy=93.5, loss=0.174]\n"
     ]
    },
    {
     "name": "stdout",
     "output_type": "stream",
     "text": [
      "Epoch: 6, loss: 0.17355345886176837, acc: 93.53833333333333\n",
      "Epoch: 6, test loss: 0.0018231979683041573, test acc: 92.04\n"
     ]
    },
    {
     "name": "stderr",
     "output_type": "stream",
     "text": [
      "Epoch 7: 100%|██████████| 469/469 [01:13<00:00,  6.42it/s, accuracy=94.4, loss=0.153]\n"
     ]
    },
    {
     "name": "stdout",
     "output_type": "stream",
     "text": [
      "Epoch: 7, loss: 0.15278119347624178, acc: 94.44166666666666\n",
      "Epoch: 7, test loss: 0.0018598661419004202, test acc: 92.14\n"
     ]
    },
    {
     "name": "stderr",
     "output_type": "stream",
     "text": [
      "Epoch 8: 100%|██████████| 469/469 [01:12<00:00,  6.46it/s, accuracy=94.8, loss=0.14] \n"
     ]
    },
    {
     "name": "stdout",
     "output_type": "stream",
     "text": [
      "Epoch: 8, loss: 0.14003762371663345, acc: 94.805\n",
      "Epoch: 8, test loss: 0.001733958163112402, test acc: 92.36\n"
     ]
    },
    {
     "name": "stderr",
     "output_type": "stream",
     "text": [
      "Epoch 9: 100%|██████████| 469/469 [01:12<00:00,  6.47it/s, accuracy=95.4, loss=0.124]\n"
     ]
    },
    {
     "name": "stdout",
     "output_type": "stream",
     "text": [
      "Epoch: 9, loss: 0.1236349705146002, acc: 95.43166666666667\n",
      "Epoch: 9, test loss: 0.001883041138201952, test acc: 92.32000000000001\n"
     ]
    },
    {
     "name": "stderr",
     "output_type": "stream",
     "text": [
      "Epoch 10: 100%|██████████| 469/469 [01:12<00:00,  6.45it/s, accuracy=96, loss=0.109]  \n"
     ]
    },
    {
     "name": "stdout",
     "output_type": "stream",
     "text": [
      "Epoch: 10, loss: 0.10936467909911421, acc: 96.005\n",
      "Epoch: 10, test loss: 0.0018299723632633686, test acc: 93.31\n"
     ]
    }
   ],
   "source": [
    "train_classify(small_vgg_net, train_loader, test_loader, optimizer, criterion, num_epochs=10)"
   ]
  }
 ],
 "metadata": {
  "kernelspec": {
   "display_name": "py3.11",
   "language": "python",
   "name": "py3.11"
  },
  "language_info": {
   "codemirror_mode": {
    "name": "ipython",
    "version": 3
   },
   "file_extension": ".py",
   "mimetype": "text/x-python",
   "name": "python",
   "nbconvert_exporter": "python",
   "pygments_lexer": "ipython3",
   "version": "3.11.5"
  }
 },
 "nbformat": 4,
 "nbformat_minor": 4
}
