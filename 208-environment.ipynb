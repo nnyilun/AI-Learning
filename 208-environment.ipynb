{
 "cells": [
  {
   "cell_type": "markdown",
   "id": "93a670a1",
   "metadata": {},
   "source": [
    "### 分布偏移的类型\n",
    "\n",
    "在许多情况下，训练集和测试集并不来自同一个分布。这就是所谓的分布偏移。\n",
    "\n",
    "1. 协变量偏移：可以理解为标签没有改变，但是输入发生了偏移。如猫狗图像分类，训练集为现实中的猫狗图像，但测试集是卡通的猫狗图像。\n",
    "\n",
    "2. 标签偏移\n",
    "\n",
    "3. 概念偏移：标签的定义发生变化。一些标签的定义会随着用法发生变化。"
   ]
  },
  {
   "cell_type": "code",
   "execution_count": null,
   "id": "c3625d61",
   "metadata": {},
   "outputs": [],
   "source": []
  }
 ],
 "metadata": {
  "kernelspec": {
   "display_name": "Python 3 (ipykernel)",
   "language": "python",
   "name": "python3"
  },
  "language_info": {
   "codemirror_mode": {
    "name": "ipython",
    "version": 3
   },
   "file_extension": ".py",
   "mimetype": "text/x-python",
   "name": "python",
   "nbconvert_exporter": "python",
   "pygments_lexer": "ipython3",
   "version": "3.11.4"
  }
 },
 "nbformat": 4,
 "nbformat_minor": 5
}
