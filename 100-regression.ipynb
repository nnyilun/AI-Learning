{
 "cells": [
  {
   "cell_type": "code",
   "execution_count": 1,
   "id": "6b255478",
   "metadata": {
    "tags": []
   },
   "outputs": [
    {
     "name": "stdout",
     "output_type": "stream",
     "text": [
      "0.44268 sec\n",
      "0.00033 sec\n"
     ]
    }
   ],
   "source": [
    "import math\n",
    "import time\n",
    "import numpy as np\n",
    "import torch\n",
    "\n",
    "# 使用张量计算效率会比for高\n",
    "n = 100000\n",
    "a = torch.ones([n])\n",
    "b = torch.ones([n])\n",
    "\n",
    "class Timer:\n",
    "    \"\"\"记录多次运行时间\"\"\"\n",
    "    def __init__(self):\n",
    "        self.times = []\n",
    "        self.start()\n",
    "        \n",
    "    def start(self):\n",
    "        \"\"\"启动计时器\"\"\"\n",
    "        self.tik = time.time()\n",
    "        \n",
    "    def stop(self):\n",
    "        \"\"\"停止计时器并将时间记录在列表中\"\"\"\n",
    "        self.times.append(time.time() - self.tik)\n",
    "        return self.times[-1]\n",
    "    \n",
    "    def avg(self):\n",
    "        \"\"\"返回平均时间\"\"\"\n",
    "        return sum(self.times) / len(self.times)\n",
    "    \n",
    "    def sum(self):\n",
    "        \"\"\"返回时间总和\"\"\"\n",
    "        return sum(self.times)\n",
    "    \n",
    "    def cumsum(self):\n",
    "        \"\"\"返回累计时间\"\"\"\n",
    "        return np.array(self.times).cumsum().tolist()\n",
    "\n",
    "# 使用for逐个元素相加\n",
    "c = torch.zeros(n)\n",
    "timer = Timer()\n",
    "for i in range(n):\n",
    "    c[i] = a[i] + b[i]\n",
    "print(f'{timer.stop():.5f} sec')\n",
    "\n",
    "# 使用张量计算\n",
    "timer.start()\n",
    "d = a + b\n",
    "print(f'{timer.stop():.5f} sec')"
   ]
  },
  {
   "cell_type": "code",
   "execution_count": 2,
   "id": "b9784572",
   "metadata": {
    "tags": []
   },
   "outputs": [
    {
     "name": "stdout",
     "output_type": "stream",
     "text": [
      "features: tensor([ 1.9378, -0.7822]) \n",
      "label: tensor([10.7184])\n"
     ]
    },
    {
     "data": {
      "text/plain": [
       "<matplotlib.collections.PathCollection at 0x7f6e2e55f690>"
      ]
     },
     "execution_count": 2,
     "metadata": {},
     "output_type": "execute_result"
    },
    {
     "data": {
      "image/png": "[encoded data removed]",
      "text/plain": [
       "<Figure size 640x480 with 1 Axes>"
      ]
     },
     "metadata": {},
     "output_type": "display_data"
    }
   ],
   "source": [
    "import random\n",
    "import torch\n",
    "\n",
    "def synthetic_data(w, b, num_examples):\n",
    "    \"\"\"生成y=Xw+b+噪声\"\"\"\n",
    "    # 生成均值为0标准差为1， num_examples * len(w)大小的张量\n",
    "    X = torch.normal(0, 1, (num_examples, len(w)))\n",
    "    y = torch.matmul(X, w) + b\n",
    "    y += torch.normal(0, 0.01, y.shape) # 噪声\n",
    "    return X, y.reshape((-1, 1))\n",
    "\n",
    "# 使用w = [2, -3.4]和b = 4.2，以及噪声项ϵ，生成数据集和标签\n",
    "# y = Xw + b + ϵ\n",
    "true_w = torch.tensor([2, -3.4])\n",
    "true_b = 4.2\n",
    "features, labels = synthetic_data(true_w, true_b, 1000)\n",
    "\n",
    "print('features:', features[0],'\\nlabel:', labels[0])\n",
    "\n",
    "from matplotlib import pyplot as plt\n",
    "plt.scatter(features[:, (1)].detach().numpy(), labels.detach().numpy(), 1)\n",
    "# detach是为了分离张量的数值，减少内存开销，不加也可以"
   ]
  },
  {
   "cell_type": "code",
   "execution_count": 3,
   "id": "35c2b9a0",
   "metadata": {},
   "outputs": [
    {
     "name": "stdout",
     "output_type": "stream",
     "text": [
      "tensor([[-0.0284, -1.2337],\n",
      "        [-0.0240, -0.2334],\n",
      "        [-0.5405, -0.6218],\n",
      "        [-0.9946,  0.2293],\n",
      "        [ 1.2767, -0.3015],\n",
      "        [ 0.0522, -1.1645],\n",
      "        [-3.0741, -0.0261],\n",
      "        [ 0.0734, -0.5409],\n",
      "        [-1.6967,  1.1549],\n",
      "        [ 1.2965,  0.1987]]) \n",
      " tensor([[ 8.3509],\n",
      "        [ 4.9362],\n",
      "        [ 5.2429],\n",
      "        [ 1.4322],\n",
      "        [ 7.7769],\n",
      "        [ 8.2495],\n",
      "        [-1.8533],\n",
      "        [ 6.1842],\n",
      "        [-3.1127],\n",
      "        [ 6.1325]])\n"
     ]
    }
   ],
   "source": [
    "# 随机生成数据的函数\n",
    "def data_iter(batch_size, features, labels):\n",
    "    num_examples = len(features) # len仅返回第一个维度的大小\n",
    "    indices = list(range(num_examples))\n",
    "    # 这些样本是随机读取的，没有特定的顺序\n",
    "    random.shuffle(indices)\n",
    "    for i in range(0, num_examples, batch_size): # [0, num_examples)，步长为batch_size\n",
    "        batch_indices = torch.tensor(\n",
    "            indices[i: min(i + batch_size, num_examples)])\n",
    "        yield features[batch_indices], labels[batch_indices] # 每次迭代时返回，而不是一次性返回\n",
    "        \n",
    "        \n",
    "batch_size = 10\n",
    "for X, y in data_iter(batch_size, features, labels):\n",
    "    print(X, '\\n', y)\n",
    "    break"
   ]
  },
  {
   "cell_type": "code",
   "execution_count": 4,
   "id": "2ab2557b",
   "metadata": {},
   "outputs": [
    {
     "name": "stdout",
     "output_type": "stream",
     "text": [
      "cuda\n"
     ]
    }
   ],
   "source": [
    "# 尝试使用cuda\n",
    "device = torch.device('cuda' if torch.cuda.is_available() else 'cpu')\n",
    "print(device)\n",
    "\n",
    "# 初始化权重\n",
    "w = torch.normal(0, 0.01, size=(2,1), requires_grad=True)\n",
    "# w = torch.zeros((2,1)) 权重不能初始化为0，自动求导无法处理具有常数梯度的情况\n",
    "b = torch.zeros(1, requires_grad=True)\n",
    "\n",
    "# 定义模型\n",
    "def linear_regression(X, w, b):\n",
    "    # Y = Xw + b线性回归模型\n",
    "    return torch.matmul(X, w) + b\n",
    "\n",
    "# 定义损失函数\n",
    "def squared_loss(y_hat, y):\n",
    "    # 均方损失\n",
    "    return (y_hat - y.reshape(y_hat.shape)) ** 2 / 2\n",
    "\n",
    "# 定义优化算法\n",
    "def sgd(params, lr, batch_size):\n",
    "    # 小批量随机梯度下降，线性回归有解析解\n",
    "    # with torch.no_grad()是为了禁用梯度计算，在更新参数的过程中不需要计算梯度\n",
    "    with torch.no_grad():\n",
    "        for param in params:\n",
    "            param -= lr * param.grad / batch_size\n",
    "            # 注意：尽管no_grad()禁用了梯度，但是with之外梯度计算仍然启用，所以每次更新参数后需要清除梯度\n",
    "            param.grad.zero_() "
   ]
  },
  {
   "cell_type": "code",
   "execution_count": 5,
   "id": "f9e8a923",
   "metadata": {},
   "outputs": [
    {
     "name": "stdout",
     "output_type": "stream",
     "text": [
      "epoch 1, loss 0.035710\n",
      "epoch 2, loss 0.000135\n",
      "epoch 3, loss 0.000050\n",
      "w的估计误差：tensor([ 0.0008, -0.0004], grad_fn=<SubBackward0>)\n",
      "b的估计误差：tensor([0.0005], grad_fn=<RsubBackward1>)\n"
     ]
    }
   ],
   "source": [
    "# 训练过程\n",
    "lr = 0.03\n",
    "num_epochs = 3\n",
    "net = linear_regression\n",
    "loss = squared_loss\n",
    "\n",
    "for epoch in range(num_epochs):\n",
    "    for X, y in data_iter(batch_size, features, labels):\n",
    "        l = loss(net(X, w, b), y)\n",
    "        # 因为l形状是(batch_size,1)，而不是一个标量。l中的所有元素被加到一起，\n",
    "        # 并以此计算关于[w,b]的梯度\n",
    "        l.sum().backward()\n",
    "        sgd([w, b], lr, batch_size) # 使用参数的梯度更新参数\n",
    "    with torch.no_grad():\n",
    "        train_l = loss(net(features, w, b), labels)\n",
    "        print(f'epoch {epoch + 1}, loss {float(train_l.mean()):f}')\n",
    "        \n",
    "print(f'w的估计误差：{true_w - w.reshape(true_w.shape)}')\n",
    "print(f'b的估计误差：{true_b - b}')"
   ]
  },
  {
   "cell_type": "code",
   "execution_count": 6,
   "id": "13696ea8",
   "metadata": {},
   "outputs": [],
   "source": [
    "# 线性回归的简洁实现\n",
    "import numpy as np\n",
    "import torch\n",
    "from torch.utils import data\n",
    "\n",
    "true_w = torch.tensor([2, -3.4])\n",
    "true_b = 4.2\n",
    "features, labels = synthetic_data(true_w, true_b, 1000)\n",
    "\n",
    "def load_array(data_arrays, batch_size, shuffle=True):\n",
    "    \"\"\"构造一个PyTorch数据迭代器\"\"\"\n",
    "    dataset = data.TensorDataset(*data_arrays) # 为了将元祖拆分为多个独立元素\n",
    "    return data.DataLoader(dataset, batch_size, shuffle=shuffle)"
   ]
  },
  {
   "cell_type": "code",
   "execution_count": 7,
   "id": "059cb84d",
   "metadata": {},
   "outputs": [
    {
     "data": {
      "text/plain": [
       "[tensor([[-1.2668, -1.2655],\n",
       "         [-1.0222,  0.6226],\n",
       "         [ 1.0272,  0.1479],\n",
       "         [ 0.5125,  0.4618],\n",
       "         [-0.8919,  1.1850],\n",
       "         [ 2.1543, -0.3307],\n",
       "         [ 1.3397, -0.3240],\n",
       "         [ 0.4561,  1.0964],\n",
       "         [-0.7042, -1.9035],\n",
       "         [ 0.6246, -0.5539]]),\n",
       " tensor([[ 5.9750],\n",
       "         [ 0.0448],\n",
       "         [ 5.7453],\n",
       "         [ 3.6608],\n",
       "         [-1.6068],\n",
       "         [ 9.6398],\n",
       "         [ 7.9539],\n",
       "         [ 1.3895],\n",
       "         [ 9.2612],\n",
       "         [ 7.3294]])]"
      ]
     },
     "execution_count": 7,
     "metadata": {},
     "output_type": "execute_result"
    }
   ],
   "source": [
    "batch_size = 10\n",
    "data_iter = load_array((features, labels), batch_size)\n",
    "next(iter(data_iter))"
   ]
  },
  {
   "cell_type": "code",
   "execution_count": 8,
   "id": "85311906",
   "metadata": {},
   "outputs": [],
   "source": [
    "# 开始定义模型\n",
    "from torch import nn\n",
    "# nn.Sequential可以将多个层连接在一起\n",
    "# nn.Linear为定义了线性层\n",
    "net = nn.Sequential(nn.Linear(2, 1))"
   ]
  },
  {
   "cell_type": "code",
   "execution_count": 9,
   "id": "b67adef2",
   "metadata": {},
   "outputs": [],
   "source": [
    "# 设定网络中权重初始值\n",
    "net[0].weight.data.normal_(0, 0.01)\n",
    "net[0].bias.data.fill_(0)\n",
    "\n",
    "# 定义损失函数\n",
    "loss = nn.MSELoss()\n",
    "\n",
    "# 定义优化算法\n",
    "trainer = torch.optim.SGD(net.parameters(), lr=0.03)"
   ]
  },
  {
   "cell_type": "code",
   "execution_count": 10,
   "id": "79466345",
   "metadata": {},
   "outputs": [
    {
     "name": "stdout",
     "output_type": "stream",
     "text": [
      "epoch 1, loss 0.000296\n",
      "epoch 2, loss 0.000091\n",
      "epoch 3, loss 0.000092\n"
     ]
    }
   ],
   "source": [
    "# 训练过程\n",
    "num_epochs = 3\n",
    "for epoch in range(num_epochs):\n",
    "    for X, y in data_iter:\n",
    "        l = loss(net(X), y) # 前向推理，计算损失\n",
    "        # 反向传播前需要清除梯度，清除梯度过程也可以放在loss前\n",
    "        trainer.zero_grad() # 清除梯度\n",
    "        l.backward() # 反向传播\n",
    "        trainer.step() # 根据反向传播梯度优化参数\n",
    "    with torch.no_grad():\n",
    "        # 在从零实现中，这里禁止了梯度，但是为何在简洁实现中禁止梯度是不必要的？\n",
    "        l = loss(net(features), labels)\n",
    "        print(f'epoch {epoch + 1}, loss {l:f}')"
   ]
  },
  {
   "cell_type": "code",
   "execution_count": 11,
   "id": "74cf3407",
   "metadata": {},
   "outputs": [
    {
     "name": "stdout",
     "output_type": "stream",
     "text": [
      "w的估计误差： tensor([-0.0004, -0.0014])\n",
      "b的估计误差： tensor([-0.0008])\n"
     ]
    }
   ],
   "source": [
    "w = net[0].weight.data\n",
    "print('w的估计误差：', true_w - w.reshape(true_w.shape))\n",
    "b = net[0].bias.data\n",
    "print('b的估计误差：', true_b - b)\n",
    "# 因为误差函数有所差别，所以估计误差也会有差别"
   ]
  },
  {
   "cell_type": "code",
   "execution_count": null,
   "id": "b3a0d42c",
   "metadata": {},
   "outputs": [],
   "source": []
  }
 ],
 "metadata": {
  "kernelspec": {
   "display_name": "py3.11",
   "language": "python",
   "name": "py3.11"
  },
  "language_info": {
   "codemirror_mode": {
    "name": "ipython",
    "version": 3
   },
   "file_extension": ".py",
   "mimetype": "text/x-python",
   "name": "python",
   "nbconvert_exporter": "python",
   "pygments_lexer": "ipython3",
   "version": "3.11.5"
  }
 },
 "nbformat": 4,
 "nbformat_minor": 5
}
