{
 "cells": [
  {
   "cell_type": "code",
   "execution_count": 1,
   "id": "7e4c925a-bae2-4f40-8ff5-30690f09dfb6",
   "metadata": {
    "tags": []
   },
   "outputs": [],
   "source": [
    "import torch\n",
    "from torch import nn\n",
    "from torch.utils import data\n",
    "from tqdm import tqdm\n",
    "from utils.fashion_mnist import load_data_fashion_mnist"
   ]
  },
  {
   "cell_type": "code",
   "execution_count": 2,
   "id": "a80a685c-be72-49f5-9b19-efc2317dd4d1",
   "metadata": {
    "tags": []
   },
   "outputs": [],
   "source": [
    "net = nn.Sequential(\n",
    "    nn.Conv2d(1, 6, kernel_size=5, padding=2), nn.Sigmoid(),\n",
    "    nn.AvgPool2d(kernel_size=2, stride=2),\n",
    "    nn.Conv2d(6, 16, kernel_size=5), nn.Sigmoid(),\n",
    "    nn.AvgPool2d(kernel_size=2, stride=2),\n",
    "    nn.Flatten(),\n",
    "    nn.Linear(16 * 5 * 5, 120), nn.Sigmoid(),\n",
    "    nn.Linear(120, 84), nn.Sigmoid(),\n",
    "    nn.Linear(84, 10)\n",
    ")"
   ]
  },
  {
   "cell_type": "code",
   "execution_count": 3,
   "id": "eb290c7a-379a-4894-92a6-761fdef3e48c",
   "metadata": {
    "tags": []
   },
   "outputs": [
    {
     "name": "stdout",
     "output_type": "stream",
     "text": [
      "Conv2d output shape: \t torch.Size([1, 6, 28, 28])\n",
      "Sigmoid output shape: \t torch.Size([1, 6, 28, 28])\n",
      "AvgPool2d output shape: \t torch.Size([1, 6, 14, 14])\n",
      "Conv2d output shape: \t torch.Size([1, 16, 10, 10])\n",
      "Sigmoid output shape: \t torch.Size([1, 16, 10, 10])\n",
      "AvgPool2d output shape: \t torch.Size([1, 16, 5, 5])\n",
      "Flatten output shape: \t torch.Size([1, 400])\n",
      "Linear output shape: \t torch.Size([1, 120])\n",
      "Sigmoid output shape: \t torch.Size([1, 120])\n",
      "Linear output shape: \t torch.Size([1, 84])\n",
      "Sigmoid output shape: \t torch.Size([1, 84])\n",
      "Linear output shape: \t torch.Size([1, 10])\n"
     ]
    }
   ],
   "source": [
    "X = torch.rand(size=(1, 1, 28, 28), dtype=torch.float32)\n",
    "for layer in net:\n",
    "    X = layer(X)\n",
    "    print(layer.__class__.__name__,'output shape: \\t',X.shape)"
   ]
  },
  {
   "cell_type": "code",
   "execution_count": 2,
   "id": "603666a0-b40f-42c9-b3ad-ddd5064ef4fd",
   "metadata": {
    "tags": []
   },
   "outputs": [],
   "source": [
    "batch_size = 256\n",
    "train_iter, test_iter = load_data_fashion_mnist(batch_size=batch_size)"
   ]
  },
  {
   "cell_type": "code",
   "execution_count": 3,
   "id": "bab7acba",
   "metadata": {},
   "outputs": [],
   "source": [
    "def evaluate(model:torch.Tensor, dataloader:data.DataLoader, device:str) -> float:\n",
    "    model.to(device)\n",
    "    model.eval()\n",
    "\n",
    "    total = 0\n",
    "    correct = 0\n",
    "    for X, y in tqdm(dataloader):\n",
    "        X, y = X.to(device), y.to(device)\n",
    "        y_hat = model(X)\n",
    "        \n",
    "        predict = torch.argmax(y_hat, dim=1)\n",
    "        correct += (predict == y).sum().item()\n",
    "        total += y.shape[0]\n",
    "\n",
    "    model.train()\n",
    "    \n",
    "    return correct / total"
   ]
  },
  {
   "cell_type": "code",
   "execution_count": 4,
   "id": "3f1675a3-c1e9-431d-992c-625bb7f5fb9f",
   "metadata": {},
   "outputs": [],
   "source": [
    "def train(model:torch.Tensor, dataloader:data.DataLoader, optim:torch.optim.Optimizer, criterion:torch.nn, test_data:data.DataLoader, num_epochs:int=10, device:str=\"cuda\") -> None:\n",
    "    model.to(device)\n",
    "    model.train()\n",
    "\n",
    "    for _ in range(num_epochs):\n",
    "        total = 0\n",
    "        total_loss = 0.0\n",
    "        total_correct = 0.0\n",
    "\n",
    "        progress_bar = tqdm(enumerate(dataloader), total=len(dataloader))\n",
    "\n",
    "        for i, (X, y) in progress_bar:\n",
    "            X, y = X.to(device), y.to(device)\n",
    "\n",
    "            optim.zero_grad()\n",
    "            y_hat = model(X)\n",
    "            l = criterion(y_hat, y)\n",
    "            l.backward()\n",
    "            optim.step()\n",
    "\n",
    "            total_loss += l.item()\n",
    "            predict = torch.argmax(y_hat, dim=1)\n",
    "            total += y.shape[0]\n",
    "            total_correct += (predict.type(y.dtype) == y).sum().item()\n",
    "\n",
    "            progress_bar.set_description(f\"Epoch {_}\")\n",
    "            progress_bar.set_postfix(loss=total_loss/(i+1), accuracy=100.*total_correct/total, Learning_rate=optim.param_groups[0]['lr'])\n",
    "\n",
    "        test_acc = evaluate(model, test_data, device)\n",
    "        accuracy = 100 * total_correct / total\n",
    "        print(f\"Loss: {total_loss / len(dataloader)}, Accuracy: {accuracy}%, test_acc: {test_acc}\")\n",
    "\n",
    "    "
   ]
  },
  {
   "cell_type": "code",
   "execution_count": 7,
   "id": "43439a82",
   "metadata": {},
   "outputs": [],
   "source": [
    "optim = torch.optim.Adam(net.parameters(), lr=0.001)\n",
    "criterion = torch.nn.CrossEntropyLoss()"
   ]
  },
  {
   "cell_type": "code",
   "execution_count": 8,
   "id": "3cb4671b",
   "metadata": {},
   "outputs": [
    {
     "name": "stderr",
     "output_type": "stream",
     "text": [
      "Epoch 0: 100%|██████████| 938/938 [00:05<00:00, 156.76it/s, Learning_rate=0.001, accuracy=55.3, loss=1.18]\n",
      "100%|██████████| 157/157 [00:00<00:00, 241.52it/s]"
     ]
    },
    {
     "name": "stdout",
     "output_type": "stream",
     "text": [
      "Loss: 1.1817171348691748, Accuracy: 55.27166666666667%, test_acc: 0.7019\n"
     ]
    },
    {
     "name": "stderr",
     "output_type": "stream",
     "text": [
      "\n",
      "Epoch 1: 100%|██████████| 938/938 [00:06<00:00, 141.95it/s, Learning_rate=0.001, accuracy=73.8, loss=0.675]\n",
      "100%|██████████| 157/157 [00:00<00:00, 220.35it/s]"
     ]
    },
    {
     "name": "stdout",
     "output_type": "stream",
     "text": [
      "Loss: 0.6748720108827294, Accuracy: 73.81333333333333%, test_acc: 0.7398\n"
     ]
    },
    {
     "name": "stderr",
     "output_type": "stream",
     "text": [
      "\n",
      "Epoch 2: 100%|██████████| 938/938 [00:06<00:00, 139.93it/s, Learning_rate=0.001, accuracy=77.3, loss=0.583]\n",
      "100%|██████████| 157/157 [00:00<00:00, 227.62it/s]"
     ]
    },
    {
     "name": "stdout",
     "output_type": "stream",
     "text": [
      "Loss: 0.5825603211612336, Accuracy: 77.33833333333334%, test_acc: 0.7759\n"
     ]
    },
    {
     "name": "stderr",
     "output_type": "stream",
     "text": [
      "\n",
      "Epoch 3: 100%|██████████| 938/938 [00:05<00:00, 165.52it/s, Learning_rate=0.001, accuracy=79.9, loss=0.529]\n",
      "100%|██████████| 157/157 [00:00<00:00, 282.26it/s]"
     ]
    },
    {
     "name": "stdout",
     "output_type": "stream",
     "text": [
      "Loss: 0.5287880431423818, Accuracy: 79.94666666666667%, test_acc: 0.7964\n"
     ]
    },
    {
     "name": "stderr",
     "output_type": "stream",
     "text": [
      "\n",
      "Epoch 4: 100%|██████████| 938/938 [00:05<00:00, 177.33it/s, Learning_rate=0.001, accuracy=81.8, loss=0.484]\n",
      "100%|██████████| 157/157 [00:00<00:00, 265.40it/s]"
     ]
    },
    {
     "name": "stdout",
     "output_type": "stream",
     "text": [
      "Loss: 0.4839009398590527, Accuracy: 81.78%, test_acc: 0.8175\n"
     ]
    },
    {
     "name": "stderr",
     "output_type": "stream",
     "text": [
      "\n",
      "Epoch 5: 100%|██████████| 938/938 [00:05<00:00, 175.84it/s, Learning_rate=0.001, accuracy=83.2, loss=0.449]\n",
      "100%|██████████| 157/157 [00:00<00:00, 268.03it/s]"
     ]
    },
    {
     "name": "stdout",
     "output_type": "stream",
     "text": [
      "Loss: 0.4493539646299663, Accuracy: 83.18333333333334%, test_acc: 0.8266\n"
     ]
    },
    {
     "name": "stderr",
     "output_type": "stream",
     "text": [
      "\n",
      "Epoch 6: 100%|██████████| 938/938 [00:05<00:00, 170.90it/s, Learning_rate=0.001, accuracy=84.3, loss=0.427]\n",
      "100%|██████████| 157/157 [00:00<00:00, 265.03it/s]"
     ]
    },
    {
     "name": "stdout",
     "output_type": "stream",
     "text": [
      "Loss: 0.4268936789366228, Accuracy: 84.28166666666667%, test_acc: 0.8291\n"
     ]
    },
    {
     "name": "stderr",
     "output_type": "stream",
     "text": [
      "\n",
      "Epoch 7: 100%|██████████| 938/938 [00:05<00:00, 179.59it/s, Learning_rate=0.001, accuracy=84.9, loss=0.407]\n",
      "100%|██████████| 157/157 [00:00<00:00, 276.87it/s]"
     ]
    },
    {
     "name": "stdout",
     "output_type": "stream",
     "text": [
      "Loss: 0.4072182572313717, Accuracy: 84.88666666666667%, test_acc: 0.8395\n"
     ]
    },
    {
     "name": "stderr",
     "output_type": "stream",
     "text": [
      "\n",
      "Epoch 8: 100%|██████████| 938/938 [00:04<00:00, 193.84it/s, Learning_rate=0.001, accuracy=85.5, loss=0.391]\n",
      "100%|██████████| 157/157 [00:00<00:00, 321.07it/s]"
     ]
    },
    {
     "name": "stdout",
     "output_type": "stream",
     "text": [
      "Loss: 0.3912442306688091, Accuracy: 85.50833333333334%, test_acc: 0.8436\n"
     ]
    },
    {
     "name": "stderr",
     "output_type": "stream",
     "text": [
      "\n",
      "Epoch 9: 100%|██████████| 938/938 [00:05<00:00, 170.40it/s, Learning_rate=0.001, accuracy=86.1, loss=0.376]\n",
      "100%|██████████| 157/157 [00:00<00:00, 326.30it/s]"
     ]
    },
    {
     "name": "stdout",
     "output_type": "stream",
     "text": [
      "Loss: 0.37633228705508875, Accuracy: 86.13%, test_acc: 0.8454\n"
     ]
    },
    {
     "name": "stderr",
     "output_type": "stream",
     "text": [
      "\n",
      "Epoch 10: 100%|██████████| 938/938 [00:04<00:00, 196.69it/s, Learning_rate=0.001, accuracy=86.6, loss=0.364]\n",
      "100%|██████████| 157/157 [00:00<00:00, 270.41it/s]"
     ]
    },
    {
     "name": "stdout",
     "output_type": "stream",
     "text": [
      "Loss: 0.36408047044455116, Accuracy: 86.60166666666667%, test_acc: 0.8531\n"
     ]
    },
    {
     "name": "stderr",
     "output_type": "stream",
     "text": [
      "\n",
      "Epoch 11: 100%|██████████| 938/938 [00:04<00:00, 191.54it/s, Learning_rate=0.001, accuracy=86.9, loss=0.352]\n",
      "100%|██████████| 157/157 [00:00<00:00, 312.40it/s]"
     ]
    },
    {
     "name": "stdout",
     "output_type": "stream",
     "text": [
      "Loss: 0.3522199939118265, Accuracy: 86.90666666666667%, test_acc: 0.8537\n"
     ]
    },
    {
     "name": "stderr",
     "output_type": "stream",
     "text": [
      "\n",
      "Epoch 12: 100%|██████████| 938/938 [00:05<00:00, 175.67it/s, Learning_rate=0.001, accuracy=87.2, loss=0.342]\n",
      "100%|██████████| 157/157 [00:00<00:00, 259.41it/s]"
     ]
    },
    {
     "name": "stdout",
     "output_type": "stream",
     "text": [
      "Loss: 0.34245355463803195, Accuracy: 87.24666666666667%, test_acc: 0.8616\n"
     ]
    },
    {
     "name": "stderr",
     "output_type": "stream",
     "text": [
      "\n",
      "Epoch 13: 100%|██████████| 938/938 [00:05<00:00, 182.83it/s, Learning_rate=0.001, accuracy=87.6, loss=0.335]\n",
      "100%|██████████| 157/157 [00:00<00:00, 357.37it/s]"
     ]
    },
    {
     "name": "stdout",
     "output_type": "stream",
     "text": [
      "Loss: 0.3347955585511, Accuracy: 87.605%, test_acc: 0.8651\n"
     ]
    },
    {
     "name": "stderr",
     "output_type": "stream",
     "text": [
      "\n",
      "Epoch 14: 100%|██████████| 938/938 [00:05<00:00, 181.64it/s, Learning_rate=0.001, accuracy=88, loss=0.326]  \n",
      "100%|██████████| 157/157 [00:00<00:00, 276.94it/s]"
     ]
    },
    {
     "name": "stdout",
     "output_type": "stream",
     "text": [
      "Loss: 0.3255427184659662, Accuracy: 87.95%, test_acc: 0.8632\n"
     ]
    },
    {
     "name": "stderr",
     "output_type": "stream",
     "text": [
      "\n",
      "Epoch 15: 100%|██████████| 938/938 [00:05<00:00, 165.48it/s, Learning_rate=0.001, accuracy=88.1, loss=0.32] \n",
      "100%|██████████| 157/157 [00:00<00:00, 229.15it/s]"
     ]
    },
    {
     "name": "stdout",
     "output_type": "stream",
     "text": [
      "Loss: 0.3196786491792085, Accuracy: 88.14166666666667%, test_acc: 0.8731\n"
     ]
    },
    {
     "name": "stderr",
     "output_type": "stream",
     "text": [
      "\n",
      "Epoch 16: 100%|██████████| 938/938 [00:05<00:00, 183.50it/s, Learning_rate=0.001, accuracy=88.3, loss=0.314]\n",
      "100%|██████████| 157/157 [00:00<00:00, 260.11it/s]"
     ]
    },
    {
     "name": "stdout",
     "output_type": "stream",
     "text": [
      "Loss: 0.3139794432421102, Accuracy: 88.315%, test_acc: 0.8713\n"
     ]
    },
    {
     "name": "stderr",
     "output_type": "stream",
     "text": [
      "\n",
      "Epoch 17: 100%|██████████| 938/938 [00:05<00:00, 175.41it/s, Learning_rate=0.001, accuracy=88.5, loss=0.307]\n",
      "100%|██████████| 157/157 [00:00<00:00, 276.18it/s]"
     ]
    },
    {
     "name": "stdout",
     "output_type": "stream",
     "text": [
      "Loss: 0.3073392922181819, Accuracy: 88.50166666666667%, test_acc: 0.8621\n"
     ]
    },
    {
     "name": "stderr",
     "output_type": "stream",
     "text": [
      "\n",
      "Epoch 18: 100%|██████████| 938/938 [00:05<00:00, 176.86it/s, Learning_rate=0.001, accuracy=88.8, loss=0.301]\n",
      "100%|██████████| 157/157 [00:00<00:00, 258.79it/s]"
     ]
    },
    {
     "name": "stdout",
     "output_type": "stream",
     "text": [
      "Loss: 0.30100927258859567, Accuracy: 88.79166666666667%, test_acc: 0.8735\n"
     ]
    },
    {
     "name": "stderr",
     "output_type": "stream",
     "text": [
      "\n",
      "Epoch 19: 100%|██████████| 938/938 [00:04<00:00, 195.81it/s, Learning_rate=0.001, accuracy=89.1, loss=0.295]\n",
      "100%|██████████| 157/157 [00:00<00:00, 316.07it/s]"
     ]
    },
    {
     "name": "stdout",
     "output_type": "stream",
     "text": [
      "Loss: 0.2950122020423794, Accuracy: 89.085%, test_acc: 0.8743\n"
     ]
    },
    {
     "name": "stderr",
     "output_type": "stream",
     "text": [
      "\n"
     ]
    }
   ],
   "source": [
    "train(net, train_iter, optim, criterion, test_iter, num_epochs=20)"
   ]
  },
  {
   "cell_type": "code",
   "execution_count": 24,
   "id": "36283a73",
   "metadata": {},
   "outputs": [],
   "source": [
    "class ImproveLeNet(nn.Module):\n",
    "    def __init__(self) -> None:\n",
    "        super().__init__()\n",
    "        self.net = nn.Sequential(\n",
    "            nn.Conv2d(1, 32, kernel_size=5, padding=2), nn.Tanh(), # [28, 28]\n",
    "            nn.Dropout(0.2),\n",
    "            nn.Conv2d(32, 48, kernel_size=3, padding=1), nn.Tanh(), # [28, 28]\n",
    "            nn.MaxPool2d(kernel_size=2, stride=2), # [14, 14]\n",
    "            nn.Conv2d(48, 16, kernel_size=5), nn.Tanh(), # [10, 10]\n",
    "            nn.MaxPool2d(kernel_size=2, stride=2),  # [5, 5]\n",
    "            nn.Flatten(),\n",
    "            nn.Linear(16 * 5 * 5, 128), nn.LeakyReLU(),\n",
    "            nn.Linear(128, 64), nn.LeakyReLU(),\n",
    "            nn.Linear(64, 10)\n",
    "        )\n",
    "\n",
    "    def forward(self, X):\n",
    "        return self.net(X)"
   ]
  },
  {
   "cell_type": "code",
   "execution_count": 25,
   "id": "f8370ccf",
   "metadata": {},
   "outputs": [
    {
     "name": "stderr",
     "output_type": "stream",
     "text": [
      "Epoch 0: 100%|██████████| 235/235 [00:02<00:00, 86.71it/s, Learning_rate=0.001, accuracy=76.1, loss=0.658]\n",
      "100%|██████████| 40/40 [00:00<00:00, 98.35it/s]"
     ]
    },
    {
     "name": "stdout",
     "output_type": "stream",
     "text": [
      "Loss: 0.657974954615248, Accuracy: 76.14666666666666%, test_acc: 0.8429\n"
     ]
    },
    {
     "name": "stderr",
     "output_type": "stream",
     "text": [
      "\n",
      "Epoch 1: 100%|██████████| 235/235 [00:02<00:00, 93.80it/s, Learning_rate=0.001, accuracy=86.2, loss=0.371]\n",
      "100%|██████████| 40/40 [00:00<00:00, 88.78it/s]"
     ]
    },
    {
     "name": "stdout",
     "output_type": "stream",
     "text": [
      "Loss: 0.3712228908817819, Accuracy: 86.22666666666667%, test_acc: 0.8663\n"
     ]
    },
    {
     "name": "stderr",
     "output_type": "stream",
     "text": [
      "\n",
      "Epoch 2: 100%|██████████| 235/235 [00:02<00:00, 93.31it/s, Learning_rate=0.001, accuracy=87.9, loss=0.326]\n",
      "100%|██████████| 40/40 [00:00<00:00, 94.06it/s]"
     ]
    },
    {
     "name": "stdout",
     "output_type": "stream",
     "text": [
      "Loss: 0.32564190924167635, Accuracy: 87.86166666666666%, test_acc: 0.8752\n"
     ]
    },
    {
     "name": "stderr",
     "output_type": "stream",
     "text": [
      "\n",
      "Epoch 3: 100%|██████████| 235/235 [00:02<00:00, 92.69it/s, Learning_rate=0.001, accuracy=89.2, loss=0.295]\n",
      "100%|██████████| 40/40 [00:00<00:00, 96.37it/s]"
     ]
    },
    {
     "name": "stdout",
     "output_type": "stream",
     "text": [
      "Loss: 0.29492687811242774, Accuracy: 89.15666666666667%, test_acc: 0.8858\n"
     ]
    },
    {
     "name": "stderr",
     "output_type": "stream",
     "text": [
      "\n",
      "Epoch 4: 100%|██████████| 235/235 [00:02<00:00, 92.61it/s, Learning_rate=0.001, accuracy=90, loss=0.273]  \n",
      "100%|██████████| 40/40 [00:00<00:00, 102.48it/s]"
     ]
    },
    {
     "name": "stdout",
     "output_type": "stream",
     "text": [
      "Loss: 0.2726254943203419, Accuracy: 89.95833333333333%, test_acc: 0.8918\n"
     ]
    },
    {
     "name": "stderr",
     "output_type": "stream",
     "text": [
      "\n",
      "Epoch 5: 100%|██████████| 235/235 [00:02<00:00, 94.80it/s, Learning_rate=0.001, accuracy=90.5, loss=0.254]\n",
      "100%|██████████| 40/40 [00:00<00:00, 97.42it/s]"
     ]
    },
    {
     "name": "stdout",
     "output_type": "stream",
     "text": [
      "Loss: 0.2537701392427404, Accuracy: 90.54333333333334%, test_acc: 0.896\n"
     ]
    },
    {
     "name": "stderr",
     "output_type": "stream",
     "text": [
      "\n",
      "Epoch 6: 100%|██████████| 235/235 [00:02<00:00, 92.79it/s, Learning_rate=0.001, accuracy=90.8, loss=0.244]\n",
      "100%|██████████| 40/40 [00:00<00:00, 95.39it/s]"
     ]
    },
    {
     "name": "stdout",
     "output_type": "stream",
     "text": [
      "Loss: 0.24372950843039978, Accuracy: 90.83833333333334%, test_acc: 0.8922\n"
     ]
    },
    {
     "name": "stderr",
     "output_type": "stream",
     "text": [
      "\n",
      "Epoch 7: 100%|██████████| 235/235 [00:02<00:00, 94.21it/s, Learning_rate=0.001, accuracy=91.3, loss=0.234]\n",
      "100%|██████████| 40/40 [00:00<00:00, 94.57it/s]"
     ]
    },
    {
     "name": "stdout",
     "output_type": "stream",
     "text": [
      "Loss: 0.23355789355775144, Accuracy: 91.28833333333333%, test_acc: 0.9008\n"
     ]
    },
    {
     "name": "stderr",
     "output_type": "stream",
     "text": [
      "\n",
      "Epoch 8: 100%|██████████| 235/235 [00:02<00:00, 93.62it/s, Learning_rate=0.001, accuracy=92.1, loss=0.216]\n",
      "100%|██████████| 40/40 [00:00<00:00, 93.28it/s]"
     ]
    },
    {
     "name": "stdout",
     "output_type": "stream",
     "text": [
      "Loss: 0.21598959672958293, Accuracy: 92.05333333333333%, test_acc: 0.9031\n"
     ]
    },
    {
     "name": "stderr",
     "output_type": "stream",
     "text": [
      "\n",
      "Epoch 9: 100%|██████████| 235/235 [00:02<00:00, 93.76it/s, Learning_rate=0.001, accuracy=92.3, loss=0.207]\n",
      "100%|██████████| 40/40 [00:00<00:00, 94.46it/s]"
     ]
    },
    {
     "name": "stdout",
     "output_type": "stream",
     "text": [
      "Loss: 0.2071053776335209, Accuracy: 92.28%, test_acc: 0.9061\n"
     ]
    },
    {
     "name": "stderr",
     "output_type": "stream",
     "text": [
      "\n",
      "Epoch 10: 100%|██████████| 235/235 [00:02<00:00, 91.68it/s, Learning_rate=0.001, accuracy=92.7, loss=0.197]\n",
      "100%|██████████| 40/40 [00:00<00:00, 90.18it/s]"
     ]
    },
    {
     "name": "stdout",
     "output_type": "stream",
     "text": [
      "Loss: 0.1971926487189658, Accuracy: 92.67166666666667%, test_acc: 0.9074\n"
     ]
    },
    {
     "name": "stderr",
     "output_type": "stream",
     "text": [
      "\n",
      "Epoch 11: 100%|██████████| 235/235 [00:02<00:00, 92.40it/s, Learning_rate=0.001, accuracy=93.1, loss=0.187]\n",
      "100%|██████████| 40/40 [00:00<00:00, 87.45it/s]"
     ]
    },
    {
     "name": "stdout",
     "output_type": "stream",
     "text": [
      "Loss: 0.18748561755773868, Accuracy: 93.095%, test_acc: 0.9116\n"
     ]
    },
    {
     "name": "stderr",
     "output_type": "stream",
     "text": [
      "\n",
      "Epoch 12: 100%|██████████| 235/235 [00:02<00:00, 85.60it/s, Learning_rate=0.001, accuracy=93.4, loss=0.178]\n",
      "100%|██████████| 40/40 [00:00<00:00, 94.99it/s]"
     ]
    },
    {
     "name": "stdout",
     "output_type": "stream",
     "text": [
      "Loss: 0.17839913025815435, Accuracy: 93.42666666666666%, test_acc: 0.902\n"
     ]
    },
    {
     "name": "stderr",
     "output_type": "stream",
     "text": [
      "\n",
      "Epoch 13: 100%|██████████| 235/235 [00:02<00:00, 91.92it/s, Learning_rate=0.001, accuracy=93.7, loss=0.17] \n",
      "100%|██████████| 40/40 [00:00<00:00, 93.94it/s]"
     ]
    },
    {
     "name": "stdout",
     "output_type": "stream",
     "text": [
      "Loss: 0.16978321281519343, Accuracy: 93.70166666666667%, test_acc: 0.9074\n"
     ]
    },
    {
     "name": "stderr",
     "output_type": "stream",
     "text": [
      "\n",
      "Epoch 14: 100%|██████████| 235/235 [00:02<00:00, 93.32it/s, Learning_rate=0.001, accuracy=94, loss=0.162]  \n",
      "100%|██████████| 40/40 [00:00<00:00, 84.06it/s] "
     ]
    },
    {
     "name": "stdout",
     "output_type": "stream",
     "text": [
      "Loss: 0.16188947393539105, Accuracy: 93.985%, test_acc: 0.9082\n"
     ]
    },
    {
     "name": "stderr",
     "output_type": "stream",
     "text": [
      "\n",
      "Epoch 15: 100%|██████████| 235/235 [00:02<00:00, 95.49it/s, Learning_rate=0.001, accuracy=94.2, loss=0.154]\n",
      "100%|██████████| 40/40 [00:00<00:00, 90.97it/s]"
     ]
    },
    {
     "name": "stdout",
     "output_type": "stream",
     "text": [
      "Loss: 0.15381994073061234, Accuracy: 94.25%, test_acc: 0.9134\n"
     ]
    },
    {
     "name": "stderr",
     "output_type": "stream",
     "text": [
      "\n",
      "Epoch 16: 100%|██████████| 235/235 [00:02<00:00, 94.86it/s, Learning_rate=0.001, accuracy=94.4, loss=0.152]\n",
      "100%|██████████| 40/40 [00:00<00:00, 93.41it/s]"
     ]
    },
    {
     "name": "stdout",
     "output_type": "stream",
     "text": [
      "Loss: 0.15163111163580673, Accuracy: 94.39%, test_acc: 0.9101\n"
     ]
    },
    {
     "name": "stderr",
     "output_type": "stream",
     "text": [
      "\n",
      "Epoch 17: 100%|██████████| 235/235 [00:02<00:00, 95.68it/s, Learning_rate=0.001, accuracy=94.6, loss=0.143]\n",
      "100%|██████████| 40/40 [00:00<00:00, 93.97it/s]"
     ]
    },
    {
     "name": "stdout",
     "output_type": "stream",
     "text": [
      "Loss: 0.14292468247895546, Accuracy: 94.6%, test_acc: 0.9127\n"
     ]
    },
    {
     "name": "stderr",
     "output_type": "stream",
     "text": [
      "\n",
      "Epoch 18: 100%|██████████| 235/235 [00:02<00:00, 94.88it/s, Learning_rate=0.001, accuracy=95, loss=0.136]  \n",
      "100%|██████████| 40/40 [00:00<00:00, 102.44it/s]"
     ]
    },
    {
     "name": "stdout",
     "output_type": "stream",
     "text": [
      "Loss: 0.13594677419738566, Accuracy: 95.00166666666667%, test_acc: 0.9087\n"
     ]
    },
    {
     "name": "stderr",
     "output_type": "stream",
     "text": [
      "\n",
      "Epoch 19: 100%|██████████| 235/235 [00:02<00:00, 91.57it/s, Learning_rate=0.001, accuracy=95, loss=0.134]  \n",
      "100%|██████████| 40/40 [00:00<00:00, 93.41it/s]"
     ]
    },
    {
     "name": "stdout",
     "output_type": "stream",
     "text": [
      "Loss: 0.13424210963731117, Accuracy: 94.95%, test_acc: 0.9149\n"
     ]
    },
    {
     "name": "stderr",
     "output_type": "stream",
     "text": [
      "\n"
     ]
    }
   ],
   "source": [
    "improveModel = ImproveLeNet()\n",
    "optim = torch.optim.Adam(improveModel.parameters(), lr=0.001)\n",
    "criterion = torch.nn.CrossEntropyLoss()\n",
    "train(improveModel, train_iter, optim, criterion, test_iter, num_epochs=20)"
   ]
  },
  {
   "cell_type": "code",
   "execution_count": null,
   "id": "3c72348f",
   "metadata": {},
   "outputs": [],
   "source": []
  }
 ],
 "metadata": {
  "kernelspec": {
   "display_name": "py3.11",
   "language": "python",
   "name": "py3.11"
  },
  "language_info": {
   "codemirror_mode": {
    "name": "ipython",
    "version": 3
   },
   "file_extension": ".py",
   "mimetype": "text/x-python",
   "name": "python",
   "nbconvert_exporter": "python",
   "pygments_lexer": "ipython3",
   "version": "3.11.5"
  }
 },
 "nbformat": 4,
 "nbformat_minor": 5
}
